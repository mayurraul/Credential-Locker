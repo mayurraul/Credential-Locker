{
 "cells": [
  {
   "cell_type": "code",
   "execution_count": null,
   "metadata": {
    "id": "1T6K6BlViGGE"
   },
   "outputs": [],
   "source": [
    "# Flow\n",
    "# Password  —> hash function(modern password hashing algorithms) —> Hashed password\n",
    "\n",
    "\n",
    "# Hashed password —> password\n",
    "\n",
    "\n",
    "# Crypt —> slow\n",
    "# Less secure but fast hashing function — MD5, SHA-1\n",
    "\n",
    "# User password —> salt (salt added)-> hashing algorithm\n",
    "\n",
    "# Hashed (password+salt) —> store in database\n",
    "\n",
    "# DB storing\n",
    "# Salt \thash\n",
    "# Salt added in password\tHashed password + salt\n",
    "\n",
    "\n",
    "# User login in\n",
    "\n",
    "# User Password  <— salt\n",
    "\n",
    "# Salted password —> hashing algorithm —> hashed password —> compared with the stored hash."
   ]
  },
  {
   "cell_type": "code",
   "execution_count": 1,
   "metadata": {
    "id": "i08EE8-1iNKR"
   },
   "outputs": [],
   "source": [
    "# Creating a function to input the credential that user wants to create\n",
    "\n",
    "class credential:\n",
    "    credcount = 0\n",
    "    def __init__(self):\n",
    "        self.cred_id = input('CREDENTIAL ID : ')\n",
    "        self.cred_name = input('CREDENTIAL NAME : ')\n",
    "        self.cred_value = input('CREDENTIAL VALUE : ')\n",
    "        self.cred_owner = input('CREDENTIAL OWNER : ')\n",
    "        self.object_type = input('OBJECT TYPE : ')\n",
    "        self.use_cases_using = input('USE CASES USING : ')\n",
    "        self.modified_by = input('MODIFIED BY : ')\n",
    "        credential.credcount+= 1\n",
    "\n",
    "    def cred_validate(self):\n",
    "        self.cred_id = input('CREDENTIAL ID : ')\n",
    "        self.cred_name = input('CREDENTIAL NAME : ')\n",
    "\n",
    "    def cred_update(self):\n",
    "        self.cred_value = input('CREDENTIAL VALUE : ')\n",
    "\n",
    "    def displaycred(self):\n",
    "        print(self.cred_id, self.cred_name, self.cred_value, self.cred_owner, self.object_type, self.use_cases_using, self.modified_by)\n",
    "\n"
   ]
  },
  {
   "cell_type": "code",
   "execution_count": 5,
   "metadata": {
    "colab": {
     "base_uri": "https://localhost:8080/",
     "height": 632
    },
    "id": "uojzDyOfiT9f",
    "outputId": "8f71e953-6519-468e-dc21-1047b04816d1"
   },
   "outputs": [
    {
     "name": "stdout",
     "output_type": "stream",
     "text": [
      "CREDENTIAL ID : 4567\n",
      "CREDENTIAL NAME : new\n",
      "CREDENTIAL VALUE : pass\n",
      "CREDENTIAL OWNER : admin\n",
      "OBJECT TYPE : pass\n",
      "USE CASES USING : hdbfj\n",
      "MODIFIED BY : jdnlf\n",
      "4567 new pass admin pass hdbfj jdnlf\n",
      "          0            1                                                  2  \\\n",
      "0  cre01118        alpha                                      hgkjahglfjgls   \n",
      "1  cre01118        alpha                                      hgkjahglfjgls   \n",
      "2  cre12345        admin  1f5288142a598a1936e1b83074d04ff15974d747528b38...   \n",
      "3  cre12345        admin  1f5288142a598a1936e1b83074d04ff15974d747528b38...   \n",
      "4   cre3623  umypassport  a6b816b204dfa2c8811c087a0999b298be75907e3d4030...   \n",
      "5      4567          new  7252e9c840ea02659ef5565d015ef783a347641f021f72...   \n",
      "\n",
      "       3         4      5                                6     7      8  \n",
      "0  aplha  non cred   6765 2023-03-07 12:43:18.711277+05:30  None  ALPHA  \n",
      "1  aplha  non cred   6765 2023-03-07 13:26:37.390489+05:30  None  ALPHA  \n",
      "2  admin      cred    all 2023-03-07 13:28:56.959002+05:30  None  admin  \n",
      "3  admin      cred    all 2023-03-08 00:08:01.496465+05:30  None  admin  \n",
      "4   MFDM      cred   3623 2023-03-18 11:33:34.385263+05:30  None   MFDM  \n",
      "5  admin      pass  hdbfj 2024-01-20 22:59:14.546115+05:30  None  jdnlf  \n"
     ]
    }
   ],
   "source": [
    "# Create new credential\n",
    "\n",
    "credcreate = credential()\n",
    "credcreate.displaycred()\n",
    "\n",
    "#Estabishing connection to the PostgreSQl Database\n",
    "import psycopg2\n",
    "import pandas as pd\n",
    "conn = psycopg2.connect(database = \"postgres\", user='postgres', password='postgre', host='localhost', port='5432')\n",
    "cursor = conn.cursor()\n",
    "\n",
    "credcreate.cred_value = hash_password(credcreate.cred_value)\n",
    "query_insert = \"INSERT INTO public.credential_vault(credential_id, credential_name, credential_value, credential_owner, object_type, use_cases_using, modified_by) VALUES( %s, %s, %s, %s, %s, %s, %s )\"\n",
    "val_insert = (credcreate.cred_id, credcreate.cred_name, credcreate.cred_value, credcreate.cred_owner, credcreate.object_type, credcreate.use_cases_using, credcreate.modified_by)\n",
    "query_execute = cursor.execute(query_insert,val_insert)\n",
    "conn.commit()\n",
    "\n",
    "query = \"SELECT * FROM public.Credential_Vault\"\n",
    "query1 = cursor.execute(query)\n",
    "conn.commit()\n",
    "\n",
    "data = cursor.fetchall()\n",
    "df=pd.DataFrame(data)\n",
    "print(df)\n",
    "conn.close()"
   ]
  },
  {
   "cell_type": "code",
   "execution_count": 4,
   "metadata": {
    "colab": {
     "base_uri": "https://localhost:8080/",
     "height": 258
    },
    "id": "lru-VheGiY3e",
    "outputId": "cf5f79d1-0141-4e8b-da51-f0cc4a589467"
   },
   "outputs": [
    {
     "name": "stdout",
     "output_type": "stream",
     "text": [
      "CREDENTIAL ID : 4567\n",
      "CREDENTIAL NAME : new\n",
      "          0            1                                                  2  \\\n",
      "0  cre01118        alpha                                      hgkjahglfjgls   \n",
      "1  cre01118        alpha                                      hgkjahglfjgls   \n",
      "2  cre12345        admin  1f5288142a598a1936e1b83074d04ff15974d747528b38...   \n",
      "3  cre12345        admin  1f5288142a598a1936e1b83074d04ff15974d747528b38...   \n",
      "4   cre3623  umypassport  a6b816b204dfa2c8811c087a0999b298be75907e3d4030...   \n",
      "\n",
      "       3         4     5                                6     7      8  \n",
      "0  aplha  non cred  6765 2023-03-07 12:43:18.711277+05:30  None  ALPHA  \n",
      "1  aplha  non cred  6765 2023-03-07 13:26:37.390489+05:30  None  ALPHA  \n",
      "2  admin      cred   all 2023-03-07 13:28:56.959002+05:30  None  admin  \n",
      "3  admin      cred   all 2023-03-08 00:08:01.496465+05:30  None  admin  \n",
      "4   MFDM      cred  3623 2023-03-18 11:33:34.385263+05:30  None   MFDM  \n",
      "No record found enter a valid cred\n"
     ]
    }
   ],
   "source": [
    "#Update credentail value in Locker\n",
    "\n",
    "\n",
    "credcreate.cred_validate()\n",
    "conn = psycopg2.connect(database = \"postgres\", user='postgres', password='postgre', host='localhost', port='5432')\n",
    "cursor = conn.cursor()\n",
    "\n",
    "query = \"SELECT * FROM public.Credential_Vault\"\n",
    "query1 = cursor.execute(query)\n",
    "conn.commit()\n",
    "\n",
    "data = cursor.fetchall()\n",
    "df=pd.DataFrame(data)\n",
    "conn.close()\n",
    "print(df)\n",
    "res = df.isin([credcreate.cred_id, credcreate.cred_name]).any().any()\n",
    "if(res):\n",
    "    credcreate.cred_update()\n",
    "    credcreate.displaycred()\n",
    "    #Estabishing connection to the PostgreSQl Database\n",
    "    import psycopg2\n",
    "    import pandas as pd\n",
    "    conn = psycopg2.connect(database = \"postgres\", user='postgres', password='postgre', host='localhost', port='5432')\n",
    "    cursor = conn.cursor()\n",
    "\n",
    "    credcreate.cred_value = hash_password(credcreate.cred_value)  # Hashing the password\n",
    "    query_update = \"UPDATE public.credential_vault SET credential_value=%s WHERE credential_id = %s\"\n",
    "    val_update = (credcreate.cred_value, credcreate.cred_id)\n",
    "    query_execute = cursor.execute(query_update,val_update)\n",
    "    conn.commit()\n",
    "\n",
    "    query = \"SELECT * FROM public.Credential_Vault\"\n",
    "    query1 = cursor.execute(query)\n",
    "    conn.commit()\n",
    "\n",
    "    data = cursor.fetchall()\n",
    "    df=pd.DataFrame(data)\n",
    "    print(df)\n",
    "    conn.close()\n",
    "else:\n",
    "    print('No record found enter a valid cred')\n",
    "\n"
   ]
  },
  {
   "cell_type": "code",
   "execution_count": 3,
   "metadata": {
    "colab": {
     "base_uri": "https://localhost:8080/"
    },
    "id": "YUol7S5aidal",
    "outputId": "7542fcd8-986f-45b9-9fe6-3a48da17d6b1"
   },
   "outputs": [
    {
     "name": "stdout",
     "output_type": "stream",
     "text": [
      "c1203f49d01cf051ee896c72135e1a17d388bdd9c86e392deaaac271105903ca78d00d613daa897ea30d2b05a33e35d508c18eece4f29b0598777ac5b0b7ce47759fcfb590ac29de47fd22f9c39b7a5d8f164da45a50386666f774a62d4cf51d\n",
      "True\n"
     ]
    }
   ],
   "source": [
    "import hashlib, binascii, os\n",
    "\n",
    "def hash_password(password):\n",
    "    salt = hashlib.sha256(os.urandom(60)).hexdigest().encode('ascii')\n",
    "    password_hash = hashlib.pbkdf2_hmac('sha512', password.encode('utf-8'),salt, 100000)  # hashing algorithm\n",
    "    password_hash = binascii.hexlify(password_hash)\n",
    "    return (salt+password_hash).decode('ascii')\n",
    "\n",
    "\n",
    "def check_password(stored_password, user_password):\n",
    "    salt = stored_password[:64]\n",
    "    stored_password = stored_password[64:]\n",
    "    password_hash = hashlib.pbkdf2_hmac('sha512', user_password.encode('utf-8'),salt.encode('ascii'), 100000)\n",
    "    password_hash = binascii.hexlify(password_hash).decode('ascii')\n",
    "    return password_hash == stored_password\n",
    "\n",
    "stored_password = hash_password('MyPassword')\n",
    "print(stored_password)\n",
    "\n",
    "print(check_password(stored_password,'MyPassword'))\n",
    "\n"
   ]
  },
  {
   "cell_type": "code",
   "execution_count": 6,
   "metadata": {},
   "outputs": [
    {
     "name": "stdout",
     "output_type": "stream",
     "text": [
      "10a6aaf6fb905222ebd5ca001ba7eb1b79d54b47f614945f379518c0d140b23572e449ec863c10fccea6e8384c399c75ca2c1aecf58aa744eaecb0d443e84811720575ae60c97743845b8433500651b0b98ad66662e65652d2e310478fc11fbd\n",
      "True\n"
     ]
    }
   ],
   "source": [
    "import hashlib\n",
    "import binascii\n",
    "import secrets\n",
    "\n",
    "ITERATION_COUNT = 100000\n",
    "\n",
    "def hash_password(password):\n",
    "    salt = secrets.token_hex(32)  # 32 bytes for the salt\n",
    "    password_hash = hashlib.pbkdf2_hmac('sha512', password.encode('utf-8'), salt.encode('ascii'), ITERATION_COUNT)\n",
    "    password_hash = binascii.hexlify(password_hash).decode('ascii')\n",
    "    return salt + password_hash\n",
    "\n",
    "def check_password(stored_password, user_password):\n",
    "    salt = stored_password[:64]\n",
    "    stored_password = stored_password[64:]\n",
    "    password_hash = hashlib.pbkdf2_hmac('sha512', user_password.encode('utf-8'), salt.encode('ascii'), ITERATION_COUNT)\n",
    "    password_hash = binascii.hexlify(password_hash).decode('ascii')\n",
    "    return password_hash == stored_password\n",
    "\n",
    "# Example usage:\n",
    "stored_password = hash_password('MyPassword')\n",
    "print(stored_password)\n",
    "\n",
    "print(check_password(stored_password, 'MyPassword'))\n"
   ]
  },
  {
   "cell_type": "code",
   "execution_count": 13,
   "metadata": {},
   "outputs": [
    {
     "name": "stdout",
     "output_type": "stream",
     "text": [
      "Record with credential_id cre01118 deleted successfully.\n"
     ]
    }
   ],
   "source": [
    "import psycopg2\n",
    "\n",
    "def establish_connection():\n",
    "    return psycopg2.connect(database=\"postgres\", user='postgres', password='postgre', host='localhost', port='5432')\n",
    "\n",
    "def execute_query(connection, query, values=None):\n",
    "    with connection, connection.cursor() as cursor:\n",
    "        cursor.execute(query, values)\n",
    "        return cursor.fetchall()\n",
    "\n",
    "def delete_credential(cred_id):\n",
    "    #connection = establish_connection()\n",
    "    import psycopg2\n",
    "    import pandas as pd\n",
    "    conn = psycopg2.connect(database = \"postgres\", user='postgres', password='postgre', host='localhost', port='5432')\n",
    "    cursor = conn.cursor()\n",
    "    query = \"DELETE FROM public.credential_vault WHERE credential_id = %s\"\n",
    "    values = (str(cred_id),)  # Convert cred_id to string\n",
    "    query_execute = cursor.execute(query,values)\n",
    "    #execute_query(connection, query, values)\n",
    "    print(f\"Record with credential_id {cred_id} deleted successfully.\")\n",
    "\n",
    "# Example usage:\n",
    "cred_id_to_delete = 'cre01118'\n",
    "delete_credential(cred_id_to_delete)\n",
    "\n"
   ]
  },
  {
   "cell_type": "code",
   "execution_count": 17,
   "metadata": {},
   "outputs": [
    {
     "name": "stdout",
     "output_type": "stream",
     "text": [
      "CREDENTIAL ID : cre12345\n",
      "CREDENTIAL NAME : admin\n",
      "          0            1                                                  2  \\\n",
      "0  cre01118        alpha                                      hgkjahglfjgls   \n",
      "1  cre01118        alpha                                      hgkjahglfjgls   \n",
      "2  cre12345        admin  1f5288142a598a1936e1b83074d04ff15974d747528b38...   \n",
      "3  cre12345        admin  1f5288142a598a1936e1b83074d04ff15974d747528b38...   \n",
      "4   cre3623  umypassport  a6b816b204dfa2c8811c087a0999b298be75907e3d4030...   \n",
      "\n",
      "       3         4     5                                6     7      8  \n",
      "0  aplha  non cred  6765 2023-03-07 12:43:18.711277+05:30  None  ALPHA  \n",
      "1  aplha  non cred  6765 2023-03-07 13:26:37.390489+05:30  None  ALPHA  \n",
      "2  admin      cred   all 2023-03-07 13:28:56.959002+05:30  None  admin  \n",
      "3  admin      cred   all 2023-03-08 00:08:01.496465+05:30  None  admin  \n",
      "4   MFDM      cred  3623 2023-03-18 11:33:34.385263+05:30  None   MFDM  \n"
     ]
    },
    {
     "ename": "ValueError",
     "evalue": "The truth value of a Series is ambiguous. Use a.empty, a.bool(), a.item(), a.any() or a.all().",
     "output_type": "error",
     "traceback": [
      "\u001b[0;31m---------------------------------------------------------------------------\u001b[0m",
      "\u001b[0;31mValueError\u001b[0m                                Traceback (most recent call last)",
      "Input \u001b[0;32mIn [17]\u001b[0m, in \u001b[0;36m<cell line: 17>\u001b[0;34m()\u001b[0m\n\u001b[1;32m     15\u001b[0m \u001b[38;5;28mprint\u001b[39m(df)\n\u001b[1;32m     16\u001b[0m res \u001b[38;5;241m=\u001b[39m df\u001b[38;5;241m.\u001b[39misin([credcreate\u001b[38;5;241m.\u001b[39mcred_id])\u001b[38;5;241m.\u001b[39many()\n\u001b[0;32m---> 17\u001b[0m \u001b[38;5;28;01mif\u001b[39;00m(res):\n\u001b[1;32m     18\u001b[0m     credcreate\u001b[38;5;241m.\u001b[39mcred_update()\n\u001b[1;32m     19\u001b[0m     credcreate\u001b[38;5;241m.\u001b[39mdisplaycred()\n",
      "File \u001b[0;32m~/opt/anaconda3/lib/python3.9/site-packages/pandas/core/generic.py:1527\u001b[0m, in \u001b[0;36mNDFrame.__nonzero__\u001b[0;34m(self)\u001b[0m\n\u001b[1;32m   1525\u001b[0m \u001b[38;5;129m@final\u001b[39m\n\u001b[1;32m   1526\u001b[0m \u001b[38;5;28;01mdef\u001b[39;00m \u001b[38;5;21m__nonzero__\u001b[39m(\u001b[38;5;28mself\u001b[39m):\n\u001b[0;32m-> 1527\u001b[0m     \u001b[38;5;28;01mraise\u001b[39;00m \u001b[38;5;167;01mValueError\u001b[39;00m(\n\u001b[1;32m   1528\u001b[0m         \u001b[38;5;124mf\u001b[39m\u001b[38;5;124m\"\u001b[39m\u001b[38;5;124mThe truth value of a \u001b[39m\u001b[38;5;132;01m{\u001b[39;00m\u001b[38;5;28mtype\u001b[39m(\u001b[38;5;28mself\u001b[39m)\u001b[38;5;241m.\u001b[39m\u001b[38;5;18m__name__\u001b[39m\u001b[38;5;132;01m}\u001b[39;00m\u001b[38;5;124m is ambiguous. \u001b[39m\u001b[38;5;124m\"\u001b[39m\n\u001b[1;32m   1529\u001b[0m         \u001b[38;5;124m\"\u001b[39m\u001b[38;5;124mUse a.empty, a.bool(), a.item(), a.any() or a.all().\u001b[39m\u001b[38;5;124m\"\u001b[39m\n\u001b[1;32m   1530\u001b[0m     )\n",
      "\u001b[0;31mValueError\u001b[0m: The truth value of a Series is ambiguous. Use a.empty, a.bool(), a.item(), a.any() or a.all()."
     ]
    }
   ],
   "source": [
    "#Update credentail value in Locker\n",
    "\n",
    "\n",
    "credcreate.cred_validate()\n",
    "conn = psycopg2.connect(database = \"postgres\", user='postgres', password='postgre', host='localhost', port='5432')\n",
    "cursor = conn.cursor()\n",
    "\n",
    "query = \"SELECT * FROM public.Credential_Vault\"\n",
    "query1 = cursor.execute(query)\n",
    "conn.commit()\n",
    "\n",
    "data = cursor.fetchall()\n",
    "df=pd.DataFrame(data)\n",
    "conn.close()\n",
    "print(df)\n",
    "res = df.isin([credcreate.cred_id]).any()\n",
    "if(res):\n",
    "    credcreate.cred_update()\n",
    "    credcreate.displaycred()\n",
    "    #Estabishing connection to the PostgreSQl Database\n",
    "    import psycopg2\n",
    "    import pandas as pd\n",
    "    conn = psycopg2.connect(database = \"postgres\", user='postgres', password='postgre', host='localhost', port='5432')\n",
    "    cursor = conn.cursor()\n",
    "    \n",
    "    query = \"DELETE FROM public.credential_vault WHERE credential_id = %s\"\n",
    "    values = (credcreate.cred_id)  # Convert cred_id to string\n",
    "    query_execute = cursor.execute(query,values)\n",
    "\n",
    "    conn.commit()\n",
    "    \n",
    "    print(f\"Record with credential_id {cred_id} deleted successfully.\")\n",
    "    query = \"SELECT * FROM public.Credential_Vault\"\n",
    "    query1 = cursor.execute(query)\n",
    "    conn.commit()\n",
    "\n",
    "    data = cursor.fetchall()\n",
    "    df=pd.DataFrame(data)\n",
    "    print(df)\n",
    "    conn.close()\n",
    "    \n",
    "else:\n",
    "    print('No record found enter a valid cred')\n",
    "\n"
   ]
  },
  {
   "cell_type": "code",
   "execution_count": null,
   "metadata": {},
   "outputs": [],
   "source": []
  }
 ],
 "metadata": {
  "colab": {
   "provenance": []
  },
  "kernelspec": {
   "display_name": "Python 3 (ipykernel)",
   "language": "python",
   "name": "python3"
  },
  "language_info": {
   "codemirror_mode": {
    "name": "ipython",
    "version": 3
   },
   "file_extension": ".py",
   "mimetype": "text/x-python",
   "name": "python",
   "nbconvert_exporter": "python",
   "pygments_lexer": "ipython3",
   "version": "3.9.12"
  }
 },
 "nbformat": 4,
 "nbformat_minor": 1
}

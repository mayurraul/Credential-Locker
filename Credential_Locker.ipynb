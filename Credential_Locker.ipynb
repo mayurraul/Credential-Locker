{
  "nbformat": 4,
  "nbformat_minor": 0,
  "metadata": {
    "colab": {
      "provenance": []
    },
    "kernelspec": {
      "name": "python3",
      "display_name": "Python 3"
    },
    "language_info": {
      "name": "python"
    }
  },
  "cells": [
    {
      "cell_type": "code",
      "execution_count": null,
      "metadata": {
        "id": "1T6K6BlViGGE"
      },
      "outputs": [],
      "source": [
        "# Flow\n",
        "# Password  —> hash function(modern password hashing algorithms) —> Hashed password\n",
        "\n",
        "\n",
        "# Hashed password —> password\n",
        "\n",
        "\n",
        "# Crypt —> slow\n",
        "# Less secure but fast hashing function — MD5, SHA-1\n",
        "\n",
        "# User password —> salt (salt added)-> hashing algorithm\n",
        "\n",
        "# Hashed (password+salt) —> store in database\n",
        "\n",
        "# DB storing\n",
        "# Salt \thash\n",
        "# Salt added in password\tHashed password + salt\n",
        "\n",
        "\n",
        "# User login in\n",
        "\n",
        "# User Password  <— salt\n",
        "\n",
        "# Salted password —> hashing algorithm —> hashed password —> compared with the stored hash."
      ]
    },
    {
      "cell_type": "code",
      "source": [
        "# Creating a function to input the credential that user wants to create\n",
        "\n",
        "class credential:\n",
        "    credcount = 0\n",
        "    def __init__(self):\n",
        "        self.cred_id = input('CREDENTIAL ID : ')\n",
        "        self.cred_name = input('CREDENTIAL NAME : ')\n",
        "        self.cred_value = input('CREDENTIAL VALUE : ')\n",
        "        self.cred_owner = input('CREDENTIAL OWNER : ')\n",
        "        self.object_type = input('OBJECT TYPE : ')\n",
        "        self.use_cases_using = input('USE CASES USING : ')\n",
        "        self.modified_by = input('MODIFIED BY : ')\n",
        "        credential.credcount+= 1\n",
        "\n",
        "    def cred_validate(self):\n",
        "        self.cred_id = input('CREDENTIAL ID : ')\n",
        "        self.cred_name = input('CREDENTIAL NAME : ')\n",
        "\n",
        "    def cred_update(self):\n",
        "        self.cred_value = input('CREDENTIAL VALUE : ')\n",
        "\n",
        "    def displaycred(self):\n",
        "        print(self.cred_id, self.cred_name, self.cred_value, self.cred_owner, self.object_type, self.use_cases_using, self.modified_by)\n",
        "\n"
      ],
      "metadata": {
        "id": "i08EE8-1iNKR"
      },
      "execution_count": null,
      "outputs": []
    },
    {
      "cell_type": "code",
      "source": [
        "# Create new credential\n",
        "\n",
        "credcreate = credential()\n",
        "credcreate.displaycred()\n",
        "\n",
        "#Estabishing connection to the PostgreSQl Database\n",
        "import psycopg2\n",
        "import pandas as pd\n",
        "conn = psycopg2.connect(database = \"postgres\", user='postgres', password='postgre', host='localhost', port='5432')\n",
        "cursor = conn.cursor()\n",
        "\n",
        "credcreate.cred_value = hash_password(credcreate.cred_value)\n",
        "query_insert = \"INSERT INTO public.credential_vault(credential_id, credential_name, credential_value, credential_owner, object_type, use_cases_using, modified_by) VALUES( %s, %s, %s, %s, %s, %s, %s )\"\n",
        "val_insert = (credcreate.cred_id, credcreate.cred_name, credcreate.cred_value, credcreate.cred_owner, credcreate.object_type, credcreate.use_cases_using, credcreate.modified_by)\n",
        "query_execute = cursor.execute(query_insert,val_insert)\n",
        "conn.commit()\n",
        "\n",
        "query = \"SELECT * FROM public.Credential_Vault\"\n",
        "query1 = cursor.execute(query)\n",
        "conn.commit()\n",
        "\n",
        "data = cursor.fetchall()\n",
        "df=pd.DataFrame(data)\n",
        "print(df)\n",
        "conn.close()"
      ],
      "metadata": {
        "colab": {
          "base_uri": "https://localhost:8080/",
          "height": 632
        },
        "id": "uojzDyOfiT9f",
        "outputId": "8f71e953-6519-468e-dc21-1047b04816d1"
      },
      "execution_count": null,
      "outputs": [
        {
          "output_type": "stream",
          "name": "stdout",
          "text": [
            "CREDENTIAL ID : cre19956\n",
            "CREDENTIAL NAME : mayur\n",
            "CREDENTIAL VALUE : adminroot\n",
            "CREDENTIAL OWNER : mayur\n",
            "OBJECT TYPE : cred\n",
            "USE CASES USING : all\n",
            "MODIFIED BY : mayur\n",
            "cre19956 mayur adminroot mayur cred all mayur\n"
          ]
        },
        {
          "output_type": "error",
          "ename": "OperationalError",
          "evalue": "ignored",
          "traceback": [
            "\u001b[0;31m---------------------------------------------------------------------------\u001b[0m",
            "\u001b[0;31mOperationalError\u001b[0m                          Traceback (most recent call last)",
            "\u001b[0;32m<ipython-input-4-98fd415063d7>\u001b[0m in \u001b[0;36m<module>\u001b[0;34m\u001b[0m\n\u001b[1;32m      7\u001b[0m \u001b[0;32mimport\u001b[0m \u001b[0mpsycopg2\u001b[0m\u001b[0;34m\u001b[0m\u001b[0;34m\u001b[0m\u001b[0m\n\u001b[1;32m      8\u001b[0m \u001b[0;32mimport\u001b[0m \u001b[0mpandas\u001b[0m \u001b[0;32mas\u001b[0m \u001b[0mpd\u001b[0m\u001b[0;34m\u001b[0m\u001b[0;34m\u001b[0m\u001b[0m\n\u001b[0;32m----> 9\u001b[0;31m \u001b[0mconn\u001b[0m \u001b[0;34m=\u001b[0m \u001b[0mpsycopg2\u001b[0m\u001b[0;34m.\u001b[0m\u001b[0mconnect\u001b[0m\u001b[0;34m(\u001b[0m\u001b[0mdatabase\u001b[0m \u001b[0;34m=\u001b[0m \u001b[0;34m\"postgres\"\u001b[0m\u001b[0;34m,\u001b[0m \u001b[0muser\u001b[0m\u001b[0;34m=\u001b[0m\u001b[0;34m'postgres'\u001b[0m\u001b[0;34m,\u001b[0m \u001b[0mpassword\u001b[0m\u001b[0;34m=\u001b[0m\u001b[0;34m'postgre'\u001b[0m\u001b[0;34m,\u001b[0m \u001b[0mhost\u001b[0m\u001b[0;34m=\u001b[0m\u001b[0;34m'localhost'\u001b[0m\u001b[0;34m,\u001b[0m \u001b[0mport\u001b[0m\u001b[0;34m=\u001b[0m\u001b[0;34m'5432'\u001b[0m\u001b[0;34m)\u001b[0m\u001b[0;34m\u001b[0m\u001b[0;34m\u001b[0m\u001b[0m\n\u001b[0m\u001b[1;32m     10\u001b[0m \u001b[0mcursor\u001b[0m \u001b[0;34m=\u001b[0m \u001b[0mconn\u001b[0m\u001b[0;34m.\u001b[0m\u001b[0mcursor\u001b[0m\u001b[0;34m(\u001b[0m\u001b[0;34m)\u001b[0m\u001b[0;34m\u001b[0m\u001b[0;34m\u001b[0m\u001b[0m\n\u001b[1;32m     11\u001b[0m \u001b[0;34m\u001b[0m\u001b[0m\n",
            "\u001b[0;32m/usr/local/lib/python3.8/dist-packages/psycopg2/__init__.py\u001b[0m in \u001b[0;36mconnect\u001b[0;34m(dsn, connection_factory, cursor_factory, **kwargs)\u001b[0m\n\u001b[1;32m    120\u001b[0m \u001b[0;34m\u001b[0m\u001b[0m\n\u001b[1;32m    121\u001b[0m     \u001b[0mdsn\u001b[0m \u001b[0;34m=\u001b[0m \u001b[0m_ext\u001b[0m\u001b[0;34m.\u001b[0m\u001b[0mmake_dsn\u001b[0m\u001b[0;34m(\u001b[0m\u001b[0mdsn\u001b[0m\u001b[0;34m,\u001b[0m \u001b[0;34m**\u001b[0m\u001b[0mkwargs\u001b[0m\u001b[0;34m)\u001b[0m\u001b[0;34m\u001b[0m\u001b[0;34m\u001b[0m\u001b[0m\n\u001b[0;32m--> 122\u001b[0;31m     \u001b[0mconn\u001b[0m \u001b[0;34m=\u001b[0m \u001b[0m_connect\u001b[0m\u001b[0;34m(\u001b[0m\u001b[0mdsn\u001b[0m\u001b[0;34m,\u001b[0m \u001b[0mconnection_factory\u001b[0m\u001b[0;34m=\u001b[0m\u001b[0mconnection_factory\u001b[0m\u001b[0;34m,\u001b[0m \u001b[0;34m**\u001b[0m\u001b[0mkwasync\u001b[0m\u001b[0;34m)\u001b[0m\u001b[0;34m\u001b[0m\u001b[0;34m\u001b[0m\u001b[0m\n\u001b[0m\u001b[1;32m    123\u001b[0m     \u001b[0;32mif\u001b[0m \u001b[0mcursor_factory\u001b[0m \u001b[0;32mis\u001b[0m \u001b[0;32mnot\u001b[0m \u001b[0;32mNone\u001b[0m\u001b[0;34m:\u001b[0m\u001b[0;34m\u001b[0m\u001b[0;34m\u001b[0m\u001b[0m\n\u001b[1;32m    124\u001b[0m         \u001b[0mconn\u001b[0m\u001b[0;34m.\u001b[0m\u001b[0mcursor_factory\u001b[0m \u001b[0;34m=\u001b[0m \u001b[0mcursor_factory\u001b[0m\u001b[0;34m\u001b[0m\u001b[0;34m\u001b[0m\u001b[0m\n",
            "\u001b[0;31mOperationalError\u001b[0m: could not connect to server: Connection refused\n\tIs the server running on host \"localhost\" (127.0.0.1) and accepting\n\tTCP/IP connections on port 5432?\ncould not connect to server: Cannot assign requested address\n\tIs the server running on host \"localhost\" (::1) and accepting\n\tTCP/IP connections on port 5432?\n"
          ]
        }
      ]
    },
    {
      "cell_type": "code",
      "source": [
        "#Update credentail value in Locker\n",
        "\n",
        "\n",
        "credcreate.cred_validate()\n",
        "conn = psycopg2.connect(database = \"postgres\", user='postgres', password='postgre', host='localhost', port='5432')\n",
        "cursor = conn.cursor()\n",
        "\n",
        "query = \"SELECT * FROM public.Credential_Vault\"\n",
        "query1 = cursor.execute(query)\n",
        "conn.commit()\n",
        "\n",
        "data = cursor.fetchall()\n",
        "df=pd.DataFrame(data)\n",
        "conn.close()\n",
        "print(df)\n",
        "res = df.isin([credcreate.cred_id, credcreate.cred_name]).any().any()\n",
        "if(res):\n",
        "    credcreate.cred_update()\n",
        "    credcreate.displaycred()\n",
        "    #Estabishing connection to the PostgreSQl Database\n",
        "    import psycopg2\n",
        "    import pandas as pd\n",
        "    conn = psycopg2.connect(database = \"postgres\", user='postgres', password='postgre', host='localhost', port='5432')\n",
        "    cursor = conn.cursor()\n",
        "\n",
        "    credcreate.cred_value = hash_password(credcreate.cred_value)  # Hashing the password\n",
        "    query_update = \"UPDATE public.credential_vault SET credential_value=%s WHERE credential_id = %s\"\n",
        "    val_update = (credcreate.cred_value, credcreate.cred_id)\n",
        "    query_execute = cursor.execute(query_update,val_update)\n",
        "    conn.commit()\n",
        "\n",
        "    query = \"SELECT * FROM public.Credential_Vault\"\n",
        "    query1 = cursor.execute(query)\n",
        "    conn.commit()\n",
        "\n",
        "    data = cursor.fetchall()\n",
        "    df=pd.DataFrame(data)\n",
        "    print(df)\n",
        "    conn.close()\n",
        "else:\n",
        "    print('No record found enter a valid cred')\n",
        "\n"
      ],
      "metadata": {
        "colab": {
          "base_uri": "https://localhost:8080/",
          "height": 258
        },
        "id": "lru-VheGiY3e",
        "outputId": "cf5f79d1-0141-4e8b-da51-f0cc4a589467"
      },
      "execution_count": null,
      "outputs": [
        {
          "output_type": "error",
          "ename": "NameError",
          "evalue": "ignored",
          "traceback": [
            "\u001b[0;31m---------------------------------------------------------------------------\u001b[0m",
            "\u001b[0;31mNameError\u001b[0m                                 Traceback (most recent call last)",
            "\u001b[0;32m<ipython-input-3-125ce6f4a92a>\u001b[0m in \u001b[0;36m<module>\u001b[0;34m\u001b[0m\n\u001b[1;32m      2\u001b[0m \u001b[0;34m\u001b[0m\u001b[0m\n\u001b[1;32m      3\u001b[0m \u001b[0;34m\u001b[0m\u001b[0m\n\u001b[0;32m----> 4\u001b[0;31m \u001b[0mcredcreate\u001b[0m\u001b[0;34m.\u001b[0m\u001b[0mcred_validate\u001b[0m\u001b[0;34m(\u001b[0m\u001b[0;34m)\u001b[0m\u001b[0;34m\u001b[0m\u001b[0;34m\u001b[0m\u001b[0m\n\u001b[0m\u001b[1;32m      5\u001b[0m \u001b[0mconn\u001b[0m \u001b[0;34m=\u001b[0m \u001b[0mpsycopg2\u001b[0m\u001b[0;34m.\u001b[0m\u001b[0mconnect\u001b[0m\u001b[0;34m(\u001b[0m\u001b[0mdatabase\u001b[0m \u001b[0;34m=\u001b[0m \u001b[0;34m\"postgres\"\u001b[0m\u001b[0;34m,\u001b[0m \u001b[0muser\u001b[0m\u001b[0;34m=\u001b[0m\u001b[0;34m'postgres'\u001b[0m\u001b[0;34m,\u001b[0m \u001b[0mpassword\u001b[0m\u001b[0;34m=\u001b[0m\u001b[0;34m'postgre'\u001b[0m\u001b[0;34m,\u001b[0m \u001b[0mhost\u001b[0m\u001b[0;34m=\u001b[0m\u001b[0;34m'localhost'\u001b[0m\u001b[0;34m,\u001b[0m \u001b[0mport\u001b[0m\u001b[0;34m=\u001b[0m\u001b[0;34m'5432'\u001b[0m\u001b[0;34m)\u001b[0m\u001b[0;34m\u001b[0m\u001b[0;34m\u001b[0m\u001b[0m\n\u001b[1;32m      6\u001b[0m \u001b[0mcursor\u001b[0m \u001b[0;34m=\u001b[0m \u001b[0mconn\u001b[0m\u001b[0;34m.\u001b[0m\u001b[0mcursor\u001b[0m\u001b[0;34m(\u001b[0m\u001b[0;34m)\u001b[0m\u001b[0;34m\u001b[0m\u001b[0;34m\u001b[0m\u001b[0m\n",
            "\u001b[0;31mNameError\u001b[0m: name 'credcreate' is not defined"
          ]
        }
      ]
    },
    {
      "cell_type": "code",
      "source": [
        "import hashlib, binascii, os\n",
        "\n",
        "def hash_password(password):\n",
        "    salt = hashlib.sha256(os.urandom(60)).hexdigest().encode('ascii')\n",
        "    password_hash = hashlib.pbkdf2_hmac('sha512', password.encode('utf-8'),salt, 100000)  # hashing algorithm\n",
        "    password_hash = binascii.hexlify(password_hash)\n",
        "    return (salt+password_hash).decode('ascii')\n",
        "\n",
        "\n",
        "def check_password(stored_password, user_password):\n",
        "    salt = stored_password[:64]\n",
        "    stored_password = stored_password[64:]\n",
        "    password_hash = hashlib.pbkdf2_hmac('sha512', user_password.encode('utf-8'),salt.encode('ascii'), 100000)\n",
        "    password_hash = binascii.hexlify(password_hash).decode('ascii')\n",
        "    return password_hash == stored_password\n",
        "\n",
        "stored_password = hash_password('MyPassword')\n",
        "print(stored_password)\n",
        "\n",
        "print(check_password(stored_password,'MyPassword'))\n",
        "\n",
        ""
      ],
      "metadata": {
        "colab": {
          "base_uri": "https://localhost:8080/"
        },
        "id": "YUol7S5aidal",
        "outputId": "7542fcd8-986f-45b9-9fe6-3a48da17d6b1"
      },
      "execution_count": null,
      "outputs": [
        {
          "output_type": "stream",
          "name": "stdout",
          "text": [
            "45370e5e61801e0a2571666995b01b99a9daacf93c4762cc003c913b1c1fe37ce33b0500cd40832198aed53b70c1c1d6b44db7972929cf95260b9e0a5295a8d4969a74fcf379deed3071572a1265de4df4511c33d10fa6c370b040fc4bd789e5\n",
            "True\n"
          ]
        }
      ]
    }
  ]
}
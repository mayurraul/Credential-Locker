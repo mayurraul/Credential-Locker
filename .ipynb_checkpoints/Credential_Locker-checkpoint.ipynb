{
 "cells": [
  {
   "cell_type": "code",
   "execution_count": null,
   "metadata": {
    "id": "1T6K6BlViGGE"
   },
   "outputs": [],
   "source": [
    "# Flow\n",
    "# Password  —> hash function(modern password hashing algorithms) —> Hashed password\n",
    "\n",
    "\n",
    "# Hashed password —> password\n",
    "\n",
    "\n",
    "# Crypt —> slow\n",
    "# Less secure but fast hashing function — MD5, SHA-1\n",
    "\n",
    "# User password —> salt (salt added)-> hashing algorithm\n",
    "\n",
    "# Hashed (password+salt) —> store in database\n",
    "\n",
    "# DB storing\n",
    "# Salt \thash\n",
    "# Salt added in password\tHashed password + salt\n",
    "\n",
    "\n",
    "# User login in\n",
    "\n",
    "# User Password  <— salt\n",
    "\n",
    "# Salted password —> hashing algorithm —> hashed password —> compared with the stored hash."
   ]
  },
  {
   "cell_type": "code",
   "execution_count": 1,
   "metadata": {
    "id": "i08EE8-1iNKR"
   },
   "outputs": [],
   "source": [
    "# Creating a function to input the credential that user wants to create\n",
    "\n",
    "class credential:\n",
    "    credcount = 0\n",
    "    def __init__(self):\n",
    "        self.cred_id = input('CREDENTIAL ID : ')\n",
    "        self.cred_name = input('CREDENTIAL NAME : ')\n",
    "        self.cred_value = input('CREDENTIAL VALUE : ')\n",
    "        self.cred_owner = input('CREDENTIAL OWNER : ')\n",
    "        self.object_type = input('OBJECT TYPE : ')\n",
    "        self.use_cases_using = input('USE CASES USING : ')\n",
    "        self.modified_by = input('MODIFIED BY : ')\n",
    "        credential.credcount+= 1\n",
    "\n",
    "    def cred_validate(self):\n",
    "        self.cred_id = input('CREDENTIAL ID : ')\n",
    "        self.cred_name = input('CREDENTIAL NAME : ')\n",
    "\n",
    "    def cred_update(self):\n",
    "        self.cred_value = input('CREDENTIAL VALUE : ')\n",
    "\n",
    "    def displaycred(self):\n",
    "        print(self.cred_id, self.cred_name, self.cred_value, self.cred_owner, self.object_type, self.use_cases_using, self.modified_by)\n",
    "\n"
   ]
  },
  {
   "cell_type": "code",
   "execution_count": 2,
   "metadata": {
    "colab": {
     "base_uri": "https://localhost:8080/",
     "height": 632
    },
    "id": "uojzDyOfiT9f",
    "outputId": "8f71e953-6519-468e-dc21-1047b04816d1"
   },
   "outputs": [
    {
     "name": "stdout",
     "output_type": "stream",
     "text": [
      "CREDENTIAL ID : 34676567\n",
      "CREDENTIAL NAME : hbdsjvbh\n",
      "CREDENTIAL VALUE : kjnfdkbv\n",
      "CREDENTIAL OWNER : kajnfgk\n",
      "OBJECT TYPE : kjanf\n",
      "USE CASES USING : kjfn\n",
      "MODIFIED BY : kjndfg\n",
      "34676567 hbdsjvbh kjnfdkbv kajnfgk kjanf kjfn kjndfg\n"
     ]
    },
    {
     "ename": "NameError",
     "evalue": "name 'hash_password' is not defined",
     "output_type": "error",
     "traceback": [
      "\u001b[0;31m---------------------------------------------------------------------------\u001b[0m",
      "\u001b[0;31mNameError\u001b[0m                                 Traceback (most recent call last)",
      "Input \u001b[0;32mIn [2]\u001b[0m, in \u001b[0;36m<cell line: 12>\u001b[0;34m()\u001b[0m\n\u001b[1;32m      9\u001b[0m conn \u001b[38;5;241m=\u001b[39m psycopg2\u001b[38;5;241m.\u001b[39mconnect(database \u001b[38;5;241m=\u001b[39m \u001b[38;5;124m\"\u001b[39m\u001b[38;5;124mpostgres\u001b[39m\u001b[38;5;124m\"\u001b[39m, user\u001b[38;5;241m=\u001b[39m\u001b[38;5;124m'\u001b[39m\u001b[38;5;124mpostgres\u001b[39m\u001b[38;5;124m'\u001b[39m, password\u001b[38;5;241m=\u001b[39m\u001b[38;5;124m'\u001b[39m\u001b[38;5;124mpostgre\u001b[39m\u001b[38;5;124m'\u001b[39m, host\u001b[38;5;241m=\u001b[39m\u001b[38;5;124m'\u001b[39m\u001b[38;5;124mlocalhost\u001b[39m\u001b[38;5;124m'\u001b[39m, port\u001b[38;5;241m=\u001b[39m\u001b[38;5;124m'\u001b[39m\u001b[38;5;124m5432\u001b[39m\u001b[38;5;124m'\u001b[39m)\n\u001b[1;32m     10\u001b[0m cursor \u001b[38;5;241m=\u001b[39m conn\u001b[38;5;241m.\u001b[39mcursor()\n\u001b[0;32m---> 12\u001b[0m credcreate\u001b[38;5;241m.\u001b[39mcred_value \u001b[38;5;241m=\u001b[39m \u001b[43mhash_password\u001b[49m(credcreate\u001b[38;5;241m.\u001b[39mcred_value)\n\u001b[1;32m     13\u001b[0m query_insert \u001b[38;5;241m=\u001b[39m \u001b[38;5;124m\"\u001b[39m\u001b[38;5;124mINSERT INTO public.credential_vault(credential_id, credential_name, credential_value, credential_owner, object_type, use_cases_using, modified_by) VALUES( \u001b[39m\u001b[38;5;132;01m%s\u001b[39;00m\u001b[38;5;124m, \u001b[39m\u001b[38;5;132;01m%s\u001b[39;00m\u001b[38;5;124m, \u001b[39m\u001b[38;5;132;01m%s\u001b[39;00m\u001b[38;5;124m, \u001b[39m\u001b[38;5;132;01m%s\u001b[39;00m\u001b[38;5;124m, \u001b[39m\u001b[38;5;132;01m%s\u001b[39;00m\u001b[38;5;124m, \u001b[39m\u001b[38;5;132;01m%s\u001b[39;00m\u001b[38;5;124m, \u001b[39m\u001b[38;5;132;01m%s\u001b[39;00m\u001b[38;5;124m )\u001b[39m\u001b[38;5;124m\"\u001b[39m\n\u001b[1;32m     14\u001b[0m val_insert \u001b[38;5;241m=\u001b[39m (credcreate\u001b[38;5;241m.\u001b[39mcred_id, credcreate\u001b[38;5;241m.\u001b[39mcred_name, credcreate\u001b[38;5;241m.\u001b[39mcred_value, credcreate\u001b[38;5;241m.\u001b[39mcred_owner, credcreate\u001b[38;5;241m.\u001b[39mobject_type, credcreate\u001b[38;5;241m.\u001b[39muse_cases_using, credcreate\u001b[38;5;241m.\u001b[39mmodified_by)\n",
      "\u001b[0;31mNameError\u001b[0m: name 'hash_password' is not defined"
     ]
    }
   ],
   "source": [
    "# Create new credential\n",
    "\n",
    "credcreate = credential()\n",
    "credcreate.displaycred()\n",
    "\n",
    "#Estabishing connection to the PostgreSQl Database\n",
    "import psycopg2\n",
    "import pandas as pd\n",
    "conn = psycopg2.connect(database = \"postgres\", user='postgres', password='postgre', host='localhost', port='5432')\n",
    "cursor = conn.cursor()\n",
    "\n",
    "credcreate.cred_value = hash_password(credcreate.cred_value)\n",
    "query_insert = \"INSERT INTO public.credential_vault(credential_id, credential_name, credential_value, credential_owner, object_type, use_cases_using, modified_by) VALUES( %s, %s, %s, %s, %s, %s, %s )\"\n",
    "val_insert = (credcreate.cred_id, credcreate.cred_name, credcreate.cred_value, credcreate.cred_owner, credcreate.object_type, credcreate.use_cases_using, credcreate.modified_by)\n",
    "query_execute = cursor.execute(query_insert,val_insert)\n",
    "conn.commit()\n",
    "\n",
    "query = \"SELECT * FROM public.Credential_Vault\"\n",
    "query1 = cursor.execute(query)\n",
    "conn.commit()\n",
    "\n",
    "data = cursor.fetchall()\n",
    "df=pd.DataFrame(data)\n",
    "print(df)\n",
    "conn.close()"
   ]
  },
  {
   "cell_type": "code",
   "execution_count": null,
   "metadata": {
    "colab": {
     "base_uri": "https://localhost:8080/",
     "height": 258
    },
    "id": "lru-VheGiY3e",
    "outputId": "cf5f79d1-0141-4e8b-da51-f0cc4a589467"
   },
   "outputs": [],
   "source": [
    "#Update credentail value in Locker\n",
    "\n",
    "\n",
    "credcreate.cred_validate()\n",
    "conn = psycopg2.connect(database = \"postgres\", user='postgres', password='postgre', host='localhost', port='5432')\n",
    "cursor = conn.cursor()\n",
    "\n",
    "query = \"SELECT * FROM public.Credential_Vault\"\n",
    "query1 = cursor.execute(query)\n",
    "conn.commit()\n",
    "\n",
    "data = cursor.fetchall()\n",
    "df=pd.DataFrame(data)\n",
    "conn.close()\n",
    "print(df)\n",
    "res = df.isin([credcreate.cred_id, credcreate.cred_name]).any().any()\n",
    "if(res):\n",
    "    credcreate.cred_update()\n",
    "    credcreate.displaycred()\n",
    "    #Estabishing connection to the PostgreSQl Database\n",
    "    import psycopg2\n",
    "    import pandas as pd\n",
    "    conn = psycopg2.connect(database = \"postgres\", user='postgres', password='postgre', host='localhost', port='5432')\n",
    "    cursor = conn.cursor()\n",
    "\n",
    "    credcreate.cred_value = hash_password(credcreate.cred_value)  # Hashing the password\n",
    "    query_update = \"UPDATE public.credential_vault SET credential_value=%s WHERE credential_id = %s\"\n",
    "    val_update = (credcreate.cred_value, credcreate.cred_id)\n",
    "    query_execute = cursor.execute(query_update,val_update)\n",
    "    conn.commit()\n",
    "\n",
    "    query = \"SELECT * FROM public.Credential_Vault\"\n",
    "    query1 = cursor.execute(query)\n",
    "    conn.commit()\n",
    "\n",
    "    data = cursor.fetchall()\n",
    "    df=pd.DataFrame(data)\n",
    "    print(df)\n",
    "    conn.close()\n",
    "else:\n",
    "    print('No record found enter a valid cred')\n",
    "\n"
   ]
  },
  {
   "cell_type": "code",
   "execution_count": null,
   "metadata": {
    "colab": {
     "base_uri": "https://localhost:8080/"
    },
    "id": "YUol7S5aidal",
    "outputId": "7542fcd8-986f-45b9-9fe6-3a48da17d6b1"
   },
   "outputs": [
    {
     "name": "stdout",
     "output_type": "stream",
     "text": [
      "45370e5e61801e0a2571666995b01b99a9daacf93c4762cc003c913b1c1fe37ce33b0500cd40832198aed53b70c1c1d6b44db7972929cf95260b9e0a5295a8d4969a74fcf379deed3071572a1265de4df4511c33d10fa6c370b040fc4bd789e5\n",
      "True\n"
     ]
    }
   ],
   "source": [
    "import hashlib, binascii, os\n",
    "\n",
    "def hash_password(password):\n",
    "    salt = hashlib.sha256(os.urandom(60)).hexdigest().encode('ascii')\n",
    "    password_hash = hashlib.pbkdf2_hmac('sha512', password.encode('utf-8'),salt, 100000)  # hashing algorithm\n",
    "    password_hash = binascii.hexlify(password_hash)\n",
    "    return (salt+password_hash).decode('ascii')\n",
    "\n",
    "\n",
    "def check_password(stored_password, user_password):\n",
    "    salt = stored_password[:64]\n",
    "    stored_password = stored_password[64:]\n",
    "    password_hash = hashlib.pbkdf2_hmac('sha512', user_password.encode('utf-8'),salt.encode('ascii'), 100000)\n",
    "    password_hash = binascii.hexlify(password_hash).decode('ascii')\n",
    "    return password_hash == stored_password\n",
    "\n",
    "stored_password = hash_password('MyPassword')\n",
    "print(stored_password)\n",
    "\n",
    "print(check_password(stored_password,'MyPassword'))\n",
    "\n"
   ]
  }
 ],
 "metadata": {
  "colab": {
   "provenance": []
  },
  "kernelspec": {
   "display_name": "Python 3 (ipykernel)",
   "language": "python",
   "name": "python3"
  },
  "language_info": {
   "codemirror_mode": {
    "name": "ipython",
    "version": 3
   },
   "file_extension": ".py",
   "mimetype": "text/x-python",
   "name": "python",
   "nbconvert_exporter": "python",
   "pygments_lexer": "ipython3",
   "version": "3.9.12"
  }
 },
 "nbformat": 4,
 "nbformat_minor": 1
}
